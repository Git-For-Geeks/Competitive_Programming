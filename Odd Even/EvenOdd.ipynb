{
  "nbformat": 4,
  "nbformat_minor": 0,
  "metadata": {
    "colab": {
      "provenance": []
    },
    "kernelspec": {
      "name": "python3",
      "display_name": "Python 3"
    },
    "language_info": {
      "name": "python"
    }
  },
  "cells": [
    {
      "cell_type": "code",
      "execution_count": 1,
      "metadata": {
        "colab": {
          "base_uri": "https://localhost:8080/"
        },
        "id": "kAswoRbu2WEK",
        "outputId": "98df1721-64ef-43bf-c223-d26d6aa00cf3"
      },
      "outputs": [
        {
          "output_type": "stream",
          "name": "stdout",
          "text": [
            "10 3\n",
            "5\n"
          ]
        }
      ],
      "source": [
        "n,k=map(int,input().split());t=(n+1)//2;print(2*k-[1,2*t][k>t])"
      ]
    }
  ]
}